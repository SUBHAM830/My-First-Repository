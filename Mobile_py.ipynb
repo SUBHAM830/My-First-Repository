{
  "nbformat": 4,
  "nbformat_minor": 0,
  "metadata": {
    "colab": {
      "name": "Mobile.py",
      "provenance": [],
      "authorship_tag": "ABX9TyNuohR9/R9w0q+E5e7JvjTG",
      "include_colab_link": true
    },
    "kernelspec": {
      "name": "python3",
      "display_name": "Python 3"
    },
    "language_info": {
      "name": "python"
    }
  },
  "cells": [
    {
      "cell_type": "markdown",
      "metadata": {
        "id": "view-in-github",
        "colab_type": "text"
      },
      "source": [
        "<a href=\"https://colab.research.google.com/github/SUBHAM830/My-First-Repository/blob/main/Mobile_py.ipynb\" target=\"_parent\"><img src=\"https://colab.research.google.com/assets/colab-badge.svg\" alt=\"Open In Colab\"/></a>"
      ]
    },
    {
      "cell_type": "code",
      "execution_count": 3,
      "metadata": {
        "colab": {
          "base_uri": "https://localhost:8080/"
        },
        "id": "p9eREEIZkEpm",
        "outputId": "5f27ab05-72f4-480c-d92c-fc76c4fbf99a"
      },
      "outputs": [
        {
          "output_type": "stream",
          "name": "stdout",
          "text": [
            "Collecting phonenumbers\n",
            "  Downloading phonenumbers-8.12.42-py2.py3-none-any.whl (2.6 MB)\n",
            "\u001b[K     |████████████████████████████████| 2.6 MB 26.0 MB/s \n",
            "\u001b[?25hInstalling collected packages: phonenumbers\n",
            "Successfully installed phonenumbers-8.12.42\n"
          ]
        }
      ],
      "source": [
        "%pip install phonenumbers\n",
        "#import phonenumbers\n",
        "#from test import number\n",
        "\n",
        "#from phonenumbers import geocoder\n",
        "#ch_nmber=phonenumbers.parse(number,\"CH\")\n",
        "#print(geocoder.description_for_number(ch_nmber,\"en\"))"
      ]
    },
    {
      "cell_type": "code",
      "source": [
        "import phonenumbers\n",
        "number=\"+918905895807\"\n",
        "\n",
        "from phonenumbers import geocoder\n",
        "ch_nmber=phonenumbers.parse(number,\"CH\")\n",
        "print(geocoder.description_for_number(ch_nmber,\"en\"))"
      ],
      "metadata": {
        "colab": {
          "base_uri": "https://localhost:8080/"
        },
        "id": "HFQz8OOWlNe2",
        "outputId": "d1516de7-823d-4f4b-eb84-6bfb85d55eb1"
      },
      "execution_count": 7,
      "outputs": [
        {
          "output_type": "stream",
          "name": "stdout",
          "text": [
            "India\n"
          ]
        }
      ]
    }
  ]
}